{
 "cells": [
  {
   "cell_type": "markdown",
   "id": "2503c9dc",
   "metadata": {},
   "source": [
    "# Analyzing a Lennard-Jones fluid"
   ]
  },
  {
   "cell_type": "markdown",
   "id": "334b4e2a",
   "metadata": {},
   "source": [
    "This example will analyze a dump file from a simulation of simple liquid that\n",
    "interacts via the Lennard-Jones pair potential: \n",
    "\n",
    "$$\n",
    "u(r) = 4 \\varepsilon \\left[ \\left(\\frac{\\sigma}{r} \\right)^{12} - \\left(\\frac{\\sigma}{r}\\right)^6 \\right]\n",
    "$$\n",
    "\n",
    "We've included the [LAMMPS input file](analysis-tutorial-lammps-input.in) if you want to run the\n",
    "simulation yourself, but we've also included the [dump](analysis-tutorial-traj.lammpstrj.gz) file \n",
    "that we generated if you want to continue along now!\n",
    "\n",
    "First, we import `lammpsio`."
   ]
  },
  {
   "cell_type": "code",
   "execution_count": 1,
   "id": "0bebf3ef",
   "metadata": {},
   "outputs": [],
   "source": [
    "import lammpsio"
   ]
  },
  {
   "cell_type": "markdown",
   "id": "d83b3038",
   "metadata": {},
   "source": [
    "Dump files offer users flexibility in choosing what information to log, which\n",
    "can make processing these files challenging. Luckily, `lammpsio` will\n",
    "infer the format automatically! Alternatively, you can manually specify the\n",
    "schema when reading the file. lammpsio can even load in a trajectory that has been \n",
    "written in gzip's compressed format! "
   ]
  },
  {
   "cell_type": "code",
   "execution_count": 2,
   "id": "5bc71397",
   "metadata": {},
   "outputs": [],
   "source": [
    "dump_file = lammpsio.DumpFile(\"analysis-tutorial-traj.lammpstrj.gz\")"
   ]
  },
  {
   "cell_type": "markdown",
   "id": "f6420afa",
   "metadata": {},
   "source": [
    "## Calculating the radial distribution function"
   ]
  },
  {
   "cell_type": "markdown",
   "id": "cd9d0f34",
   "metadata": {},
   "source": [
    "We will use the [freud](https://freud.readthedocs.io/en/latest/) package to\n",
    "calculate the radial distribution function, $g(r)$, for our Lennard-Jones fluid.\n",
    "Before continuing, make sure you have both freud and matplotlib installed. While\n",
    "freud does not natively read LAMMPS files, it accepts particle coordinates as\n",
    "NumPy arrays. `lammpsio` makes it easy to extract this data from LAMMPS dump\n",
    "files!\n",
    "\n",
    "We will evaluate $g(r)$ out to a distance of $3\\,\\sigma$ using a bin spacing of\n",
    "$0.1\\,\\sigma$. freud assumes HOOMD-blue's convention for its box which differs\n",
    "slightly from LAMMPS. lammpsio can take care of this conversion for you! "
   ]
  },
  {
   "cell_type": "code",
   "execution_count": 3,
   "id": "2077d4ab",
   "metadata": {},
   "outputs": [
    {
     "ename": "AttributeError",
     "evalue": "'Box' object has no attribute 'to_hoomd_convention'",
     "output_type": "error",
     "traceback": [
      "\u001b[31m---------------------------------------------------------------------------\u001b[39m",
      "\u001b[31mAttributeError\u001b[39m                            Traceback (most recent call last)",
      "\u001b[36mCell\u001b[39m\u001b[36m \u001b[39m\u001b[32mIn[3]\u001b[39m\u001b[32m, line 6\u001b[39m\n\u001b[32m      4\u001b[39m rdf = freud.density.RDF(bins=\u001b[32m30\u001b[39m, r_max=\u001b[32m3.0\u001b[39m)\n\u001b[32m      5\u001b[39m \u001b[38;5;28;01mfor\u001b[39;00m snapshot \u001b[38;5;129;01min\u001b[39;00m dump_file:\n\u001b[32m----> \u001b[39m\u001b[32m6\u001b[39m     box = freud.box.Box.from_box(\u001b[43msnapshot\u001b[49m\u001b[43m.\u001b[49m\u001b[43mbox\u001b[49m\u001b[43m.\u001b[49m\u001b[43mto_hoomd_convention\u001b[49m())\n\u001b[32m      7\u001b[39m     rdf.compute((box, snapshot.position), reset=\u001b[38;5;28;01mFalse\u001b[39;00m)\n\u001b[32m      8\u001b[39m rdf.plot();\n",
      "\u001b[31mAttributeError\u001b[39m: 'Box' object has no attribute 'to_hoomd_convention'"
     ]
    }
   ],
   "source": [
    "import freud\n",
    "import numpy\n",
    "\n",
    "rdf = freud.density.RDF(bins=30, r_max=3.0)\n",
    "for snapshot in dump_file:\n",
    "    box = freud.box.Box.from_box(snapshot.box.to_hoomd_convention())\n",
    "    rdf.compute((box, snapshot.position), reset=False)\n",
    "rdf.plot();"
   ]
  },
  {
   "cell_type": "markdown",
   "id": "533d1cb3",
   "metadata": {},
   "source": [
    "This looks like a typical radial distrbution function for a liquid!"
   ]
  },
  {
   "cell_type": "markdown",
   "id": "38c69979",
   "metadata": {},
   "source": [
    "## Calculating the mean squared displacement"
   ]
  },
  {
   "cell_type": "markdown",
   "id": "98677061",
   "metadata": {},
   "source": [
    "`freud` can also be used to compute the mean squared displacement of the\n",
    "particles. For this computation, we need to unwrap the particle positions,\n",
    "which we can also achieve using freud."
   ]
  },
  {
   "cell_type": "code",
   "execution_count": null,
   "id": "29dc3b86",
   "metadata": {},
   "outputs": [],
   "source": [
    "import numpy \n",
    "\n",
    "for i, snapshot in enumerate(dump_file):\n",
    "    # allocate memory for whole trajectory on first pass\n",
    "    if i == 0:\n",
    "        positions = numpy.zeros((len(dump_file), snapshot.N, 3), dtype=float)\n",
    "\n",
    "    # unwrap each snapshot using freud\n",
    "    box = freud.box.Box.from_box(snapshot.box.to_hoomd_convention())\n",
    "    positions[i] = box.unwrap(snapshot.position, snapshot.image)"
   ]
  },
  {
   "cell_type": "markdown",
   "id": "260bf16d",
   "metadata": {},
   "source": [
    "Now we can calculate the mean squared displacement and plot the result! "
   ]
  },
  {
   "cell_type": "code",
   "execution_count": null,
   "id": "eb3d264b",
   "metadata": {},
   "outputs": [
    {
     "data": {
      "image/png": "[encoded data removed]",
      "text/plain": [
       "<Figure size 640x480 with 1 Axes>"
      ]
     },
     "metadata": {},
     "output_type": "display_data"
    }
   ],
   "source": [
    "msd = freud.msd.MSD(box)\n",
    "msd.compute(positions)\n",
    "msd.plot();"
   ]
  }
 ],
 "metadata": {
  "kernelspec": {
   "display_name": "lammpsio-dev",
   "language": "python",
   "name": "python3"
  },
  "language_info": {
   "codemirror_mode": {
    "name": "ipython",
    "version": 3
   },
   "file_extension": ".py",
   "mimetype": "text/x-python",
   "name": "python",
   "nbconvert_exporter": "python",
   "pygments_lexer": "ipython3",
   "version": "3.12.3"
  }
 },
 "nbformat": 4,
 "nbformat_minor": 5
}
