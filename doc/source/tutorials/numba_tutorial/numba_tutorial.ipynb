{
 "cells": [
  {
   "cell_type": "markdown",
   "id": "2503c9dc",
   "metadata": {},
   "source": [
    "# Numba tutorial"
   ]
  },
  {
   "cell_type": "markdown",
   "id": "334b4e2a",
   "metadata": {},
   "source": [
    "In this example, we will analyze a dump file from a simulation of a single ten-bead polymer where the bonds  \n",
    "interact via the FENE potential \n",
    "\n",
    "$$\n",
    "u(r) = \\begin{cases}\n",
    "-\\dfrac{1}{2} k R_0^2 \\ln\\left(1 - \\left(\\dfrac{r}{R_0}\\right)^2\\right) + 4\\epsilon\\left[\\left(\\dfrac{\\sigma}{r}\\right)^{12} - \\left(\\dfrac{\\sigma}{r}\\right)^6\\right] + \\epsilon, & r < R_0 \\\\[6pt]\n",
    "\\infty, & r \\ge R_0.\n",
    "\\end{cases}\n",
    "$$\n",
    "\n",
    "We've included the [LAMMPS input files](lammps_input.in) if you want to run the\n",
    "simulation yourself, but we've also included the [dump](out.lammpstrj) file \n",
    "that we generated if you want to continue along now!\n",
    "\n",
    "First, we import `lammpsio` and the corresponding dump file."
   ]
  },
  {
   "cell_type": "code",
   "execution_count": 35,
   "id": "0bebf3ef",
   "metadata": {},
   "outputs": [],
   "source": [
    "import lammpsio\n",
    "traj = lammpsio.DumpFile(\"out.lammpstrj\")"
   ]
  },
  {
   "cell_type": "markdown",
   "id": "f6420afa",
   "metadata": {},
   "source": [
    "## Calculating the radius of gyration"
   ]
  },
  {
   "cell_type": "markdown",
   "id": "cd9d0f34",
   "metadata": {},
   "source": [
    "We will define three different ways to calculate the radius of gyration. The first method is the most computationally expensive version of the calculation defined as\n",
    "\n",
    "$$\n",
    "R_g^2 = \n",
    "\\dfrac{1}{N^2}\\sum_{i=1}^{N}\\sum_{j=1}^{N}\\vec{R_i}^2-\\vec{R_i}\\vec{R_j}\n",
    "$$\n",
    "\n",
    "where, $\\vec{R_i}$ and $\\vec{R_j}$ are position vectors and $N$ is the number of bead in the polymer. `lammpsio` allows easy extraction of the LAMMPS dump file. We can see, however, this method requires a lot of computation time."
   ]
  },
  {
   "cell_type": "code",
   "execution_count": 39,
   "id": "2077d4ab",
   "metadata": {},
   "outputs": [
    {
     "name": "stdout",
     "output_type": "stream",
     "text": [
      "Radius of gyration: 1.6496794663337495 Time taken: 16.29240918159485\n"
     ]
    }
   ],
   "source": [
    "import numpy\n",
    "import time\n",
    "\n",
    "def compute_rg(pos, N):\n",
    "    rg_sqr = 0\n",
    "    for i in range(0, N):\n",
    "        for j in range(0, N):\n",
    "            rg_sqr += numpy.dot(pos[i], pos[i]) - numpy.dot(pos[i], pos[j])\n",
    "    return numpy.sqrt(rg_sqr / (N * N))\n",
    "\n",
    "start_time = time.time()\n",
    "\n",
    "\n",
    "rg = []\n",
    "count = 0\n",
    "for i, snapshot in enumerate(traj):\n",
    "    pos = snapshot.position + 2*snapshot.box.high[0] * snapshot.image\n",
    "    N = snapshot.N\n",
    "    rg.append(compute_rg(pos, N))\n",
    "print(\"Radius of gyration:\", numpy.mean(rg), \"Time taken:\", time.time() - start_time)"
   ]
  },
  {
   "cell_type": "markdown",
   "id": "98677061",
   "metadata": {},
   "source": [
    "Therefore, we can use another formulation of $R_g$ that can be easily vectorized and would be significantly faster to compute than the first method\n",
    "\n",
    "$$\n",
    "R_g^2 = \n",
    "\\dfrac{1}{N}\\sum_{i=1}^{N}(\\vec{R_i}-\\vec{R_{cm}})^2\n",
    "$$\n",
    "\n",
    "where $R_{cm}$ is the position of the center of the mass of the polymer\n",
    "\n",
    "$$\n",
    "R_{cm} = \\sum_{j=1}^{N}(M_j\\vec{R_j}/\\vec{M_j}),\n",
    "$$\n",
    "\n",
    "and $M_j$ is the mass of each bead. "
   ]
  },
  {
   "cell_type": "code",
   "execution_count": 40,
   "id": "29dc3b86",
   "metadata": {},
   "outputs": [
    {
     "name": "stdout",
     "output_type": "stream",
     "text": [
      "Radius of gyration: 1.6496794663337464 Time taken: 5.6428210735321045\n"
     ]
    }
   ],
   "source": [
    "import numpy\n",
    "import time \n",
    "\n",
    "def compute_rg(pos):\n",
    "    rcm_sqr = numpy.mean(pos, axis=0)\n",
    "    rg_sqr = numpy.mean(numpy.sum((pos - rcm_sqr)**2, axis=1))\n",
    "    return numpy.sqrt(rg_sqr)\n",
    "\n",
    "start_time = time.time()\n",
    "traj = lammpsio.DumpFile('out.lammpstrj')\n",
    "rg = numpy.zeros(len(traj))\n",
    "\n",
    "for i, snapshot in enumerate(traj): \n",
    "    pos = snapshot.position + 2*snapshot.box.high[0] * snapshot.image\n",
    "    rg[i] = compute_rg(pos)\n",
    "print(\"Radius of gyration:\", numpy.mean(rg), \"Time taken:\", time.time() - start_time)"
   ]
  },
  {
   "cell_type": "markdown",
   "id": "11cfd8c3",
   "metadata": {},
   "source": [
    "This method of calculating $R_g$ is signficantly faster than the first one resulting in almost a 3x reduction in computation time! However, using a just-in-time (JIT) compiler like [numba](https://numba.readthedocs.io/en/stable/index.html) can make this calculation even faster. We use the ``compute_rg`` from the first implementation of the $R_g$ calculation and add the decorator ``@numba.njit`` to implement JIT compilation."
   ]
  },
  {
   "cell_type": "code",
   "execution_count": 41,
   "id": "eb3d264b",
   "metadata": {},
   "outputs": [
    {
     "name": "stdout",
     "output_type": "stream",
     "text": [
      "Radius of gyration: 1.6496794663337495 Time taken: 4.488613128662109\n"
     ]
    }
   ],
   "source": [
    "import numba\n",
    "\n",
    "@numba.njit\n",
    "def compute_rg(pos, N):\n",
    "    rg_sqr = 0\n",
    "    for i in range(0, N):\n",
    "        for j in range(0, N):\n",
    "            rg_sqr += numpy.dot(pos[i], pos[i]) - numpy.dot(pos[i], pos[j])\n",
    "    return numpy.sqrt(rg_sqr / (N * N))\n",
    "\n",
    "start_time = time.time()\n",
    "traj = lammpsio.DumpFile('out.lammpstrj')\n",
    "\n",
    "rg = []\n",
    "count = 0\n",
    "for i, snapshot in enumerate(traj):\n",
    "    pos = snapshot.position + 2*snapshot.box.high[0] * snapshot.image\n",
    "    N = snapshot.N\n",
    "    rg.append(compute_rg(pos, N))\n",
    "print(\"Radius of gyration:\", numpy.mean(rg), \"Time taken:\", time.time() - start_time)"
   ]
  },
  {
   "cell_type": "markdown",
   "id": "d56a8c5e",
   "metadata": {},
   "source": [
    "We see a 3.5x reduction in computation time compared to the first implementation! However, compared to the second implementation we see a 1.23x reduction in computation time."
   ]
  }
 ],
 "metadata": {
  "kernelspec": {
   "display_name": "lammpsio",
   "language": "python",
   "name": "python3"
  },
  "language_info": {
   "codemirror_mode": {
    "name": "ipython",
    "version": 3
   },
   "file_extension": ".py",
   "mimetype": "text/x-python",
   "name": "python",
   "nbconvert_exporter": "python",
   "pygments_lexer": "ipython3",
   "version": "3.12.0"
  }
 },
 "nbformat": 4,
 "nbformat_minor": 5
}
