{
 "cells": [
  {
   "cell_type": "markdown",
   "id": "56c2719c",
   "metadata": {},
   "source": [
    "# Packing a Dimer on a Cubic Lattice\n",
    "\n",
    "In this tutorial, we’ll walk through filling a box with dimers using `lammpsio`.\n",
    "We'll create a simple cubic lattice where each unit cell contains one dimer\n",
    "made up of two particle (one of type A and one of type B) that are bonded to\n",
    "each other. At the end, we will create a data file ready to be used by LAMMPS. \n",
    "\n",
    "First, we import `numpy` for making the simple cubic lattice and `lammpsio` to\n",
    "handle creating the data file."
   ]
  },
  {
   "cell_type": "code",
   "execution_count": null,
   "id": "2ab58341",
   "metadata": {},
   "outputs": [],
   "source": [
    "import lammpsio\n",
    "import numpy"
   ]
  },
  {
   "cell_type": "markdown",
   "id": "82d4bea0",
   "metadata": {},
   "source": [
    "## Creating the lattice\n",
    "\n",
    "We define the core parameters of our system, including particle diameters,\n",
    "offset between bonded particles, and the number of repetitions of the unit cell.\n",
    "We choose the particles to have a unit diameter $d$ and a bond spacing of 1.5\n",
    "$d$. We chose a lattice spacing of `2 * diameter + bond_length` so that each\n",
    "dimer is separated by one diameter. We also choose to place 1000 dimers total\n",
    "(10 in each direction)."
   ]
  },
  {
   "cell_type": "code",
   "execution_count": 30,
   "id": "cd4c3e84",
   "metadata": {},
   "outputs": [],
   "source": [
    "diameter = 1.0\n",
    "bond_length = 1.5\n",
    "lattice_spacing = 2 * diameter + bond_length\n",
    "num_repeat = [10, 10, 10]"
   ]
  },
  {
   "cell_type": "markdown",
   "id": "a93991ec",
   "metadata": {},
   "source": [
    "### Define the unit cell\n",
    "\n",
    "The unit cell is a volume and particles that can be copied along the vectors that\n",
    "define it in order to fill space. Our unit cell is a cube, so its vectors are\n",
    "the 3 Cartesian axes, scaled by the lattice spacing. Each unit cell contains two\n",
    "particles: type A at the origin, and type B shifted along the *x* axis to give\n",
    "the proper spacing. We also specify the type IDs and masses of the particles in\n",
    "the unit cell."
   ]
  },
  {
   "cell_type": "code",
   "execution_count": null,
   "id": "3ddbcaf9",
   "metadata": {},
   "outputs": [],
   "source": [
    "unit_cell_vectors = numpy.array([\n",
    "    [1, 0, 0],\n",
    "    [0, 1, 0],\n",
    "    [0, 0, 1]\n",
    "]) * lattice_spacing\n",
    "unit_cell_coords = numpy.array([\n",
    "    [0, 0, 0],\n",
    "    [bond_length, 0, 0]\n",
    "])\n",
    "unit_cell_typeids = [1, 2]\n",
    "unit_cell_mass = [1.0, 1.5]"
   ]
  },
  {
   "cell_type": "markdown",
   "id": "8ca906a5",
   "metadata": {},
   "source": [
    "### Define the box\n",
    "\n",
    "The simulation box is the volume obtained by repeating the unit cell the desired\n",
    "number of times. First, we repeat each vector by the number of repeats we\n",
    "specified. Then, we transpose these vectors to form the matrix\n",
    "[**a** **b** **c**] that defines a LAMMPS box. We choose to put the lower corner\n",
    "of the box at the origin (0, 0, 0). Since our box is orthorhombic, the `high`\n",
    "for the box is just the diagonal of the matrix and there is no `tilt`."
   ]
  },
  {
   "cell_type": "markdown",
   "id": "f71a29f8",
   "metadata": {},
   "source": [
    "`lammpsio.Box` defines the simulation box using LAMMPS's convention. In LAMMPS, the simulation box is specified by three parameters: `low`, `high`, and `tilt`. The `low` parameter defines the origin (lower corner) of the box, while `high` specifies how far the box extends along each axis. The `tilt` parameter contains tilt factors (xy, xz, yz) that skew the edges to create non-orthorhombic simulation boxes.\n",
    "\n",
    "These parameters can be transformed into a box matrix with the following form:\n",
    "\n",
    "$$\n",
    "\\begin{bmatrix}\n",
    "    a_x & b_x & c_x \\\\\n",
    "    0 & b_y & c_y \\\\\n",
    "    0 & 0 & c_z\n",
    "\\end{bmatrix},\n",
    "$$\n",
    "\n",
    "where each column of this matrix represents one of the three edge vectors (**A**, **B**, & **C**) that define the triclinic simulation box, and each of the matrix elements are derived from the `low`, `high`, and `tilt` values. The diagonal elements ($a_x$, $b_y$, $c_z$) represent the box lengths along each axis, while the off-diagonal elements come from the tilt factors. For more details on how to convert between the LAMMPS parameters and box matrix see the [LAMMPS documentation](https://docs.lammps.org/Howto_triclinic.html#transformation-from-general-to-restricted-triclinic-boxes).\n",
    "\n",
    "For our orthorhombic unit cell, all tilt factors are zero, so `tilt` has the default value of `None`, resulting in a simple rectangular box. We choose `low` to be at `[0, 0, 0]` and `high` is the diagonal values of the box."
   ]
  },
  {
   "cell_type": "code",
   "execution_count": null,
   "id": "b79ec025",
   "metadata": {},
   "outputs": [],
   "source": [
    "box_matrix = (unit_cell_vectors * num_repeat).T\n",
    "box = lammpsio.Box(low=numpy.zeros(3), high=numpy.diag(box_matrix))"
   ]
  },
  {
   "cell_type": "markdown",
   "id": "f1371cbc",
   "metadata": {},
   "source": [
    "## Creating the `lammpsio.Snapshot`\n",
    "\n",
    "The `Snapshot` holds the data about the particle's configuration and properties,\n",
    "the `Box`, and the timestep. First,wWe calculate the total number of particles\n",
    "by multiplying the number of unit cells by the number of particles per cell."
   ]
  },
  {
   "cell_type": "code",
   "execution_count": null,
   "id": "a9358a71",
   "metadata": {},
   "outputs": [],
   "source": [
    "num_cells = numpy.prod(num_repeat)\n",
    "num_per_unit_cell = unit_cell_coords.shape[0]\n",
    "snap = lammpsio.Snapshot(N=num_cells * num_per_unit_cell, box=box)"
   ]
  },
  {
   "cell_type": "markdown",
   "id": "48ea8e9b",
   "metadata": {},
   "source": [
    "We first generate positions for all particles by iterating through each unit\n",
    "cell in our lattice. The origin of the lattice (relative to the origin of the\n",
    "box) is calculated and used to shift the unit cell coordinates. Finally, the\n",
    "origin of the box is added to give the final particle positions.\n",
    "\n",
    "Note that lammpsio automatically allocates an array with the right data type and\n",
    "shape for particle data, so particle data can be assigned directly to the\n",
    "snapshot rather than using an intermediate array!"
   ]
  },
  {
   "cell_type": "code",
   "execution_count": null,
   "id": "1dbd74b0",
   "metadata": {},
   "outputs": [],
   "source": [
    "for i, unit_cell_idx in enumerate(numpy.ndindex(*num_repeat)):\n",
    "    first = i * num_per_unit_cell\n",
    "    last = first + num_per_unit_cell\n",
    "    snap.position[first:last] = (\n",
    "        numpy.array(unit_cell_idx) * lattice_spacing + unit_cell_coords\n",
    "    )\n",
    "snap.position += snap.box.low"
   ]
  },
  {
   "cell_type": "markdown",
   "id": "5d91b59f",
   "metadata": {},
   "source": [
    "We then create an array of type IDs by replicating our unit cell pattern (typeID 1 and 2) across all cells. We do the same thing to give the particles their mass. \n"
   ]
  },
  {
   "cell_type": "code",
   "execution_count": 36,
   "id": "cecf14cb",
   "metadata": {},
   "outputs": [],
   "source": [
    "snap.typeid = numpy.tile(unit_cell_typeids, num_cells)\n",
    "snap.mass = numpy.tile(unit_cell_mass, num_cells)"
   ]
  },
  {
   "cell_type": "markdown",
   "id": "46ac8215",
   "metadata": {},
   "source": [
    "To specify the bond for each dimer, we also need to add a `lammpsio.Bonds`\n",
    "object to the snapshot. We know that each cell contains one dimer and thus one\n",
    "bond. Since all of our bonds in this system are the same, we assign them all\n",
    "type ID 1. "
   ]
  },
  {
   "cell_type": "code",
   "execution_count": null,
   "id": "3ce97e21",
   "metadata": {},
   "outputs": [],
   "source": [
    "snap.bonds = lammpsio.Bonds(N=num_cells, num_types=1)\n",
    "snap.bonds.typeid = numpy.ones(snap.bonds.N)"
   ]
  },
  {
   "cell_type": "markdown",
   "id": "dbe9bda1",
   "metadata": {},
   "source": [
    "Each dimer consists of consecutive particle IDs (1-2, 3-4, etc.). We create\n",
    "bonds by connecting these consecutive pairs."
   ]
  },
  {
   "cell_type": "code",
   "execution_count": null,
   "id": "ae6ecebf",
   "metadata": {},
   "outputs": [],
   "source": [
    "snap.bonds.members = [[2 * i + 1, 2 * i + 2] for i in range(snap.bonds.N)]"
   ]
  },
  {
   "cell_type": "markdown",
   "id": "1112f225",
   "metadata": {},
   "source": [
    "## Save to LAMMPS data file"
   ]
  },
  {
   "cell_type": "markdown",
   "id": "09b878bd",
   "metadata": {},
   "source": [
    "Finally, we save the configuration to a data file ready to be used in LAMMPS.\n",
    "The data file is written in the molecular style since we have bonds. "
   ]
  },
  {
   "cell_type": "code",
   "execution_count": null,
   "id": "ada7ffb6",
   "metadata": {},
   "outputs": [
    {
     "data": {
      "text/plain": [
       "<lammpsio.data.DataFile at 0x10cdf38c0>"
      ]
     },
     "execution_count": 39,
     "metadata": {},
     "output_type": "execute_result"
    }
   ],
   "source": [
    "lammpsio.DataFile.create(\n",
    "    filename=\"dimer_lattice.data\", snapshot=snap, atom_style=\"molecular\"\n",
    ")"
   ]
  },
  {
   "cell_type": "markdown",
   "id": "567bb70a",
   "metadata": {},
   "source": [
    "## Save to HOOMD-blue GSD file"
   ]
  },
  {
   "cell_type": "markdown",
   "id": "5fdc51d0",
   "metadata": {},
   "source": [
    "HOOMD-blue is another molecular simulation tool that is frequently used by\n",
    "similar user communities as LAMMPS. There may come a time when you want to use\n",
    "HOOMD-blue or share your LAMMPS data file with someone who is more familar with\n",
    "it. Converting the data file to HOOMD-blue's GSD format manually can be tedious,\n",
    "but `lammpsio` allows for quick and seamless conversion between the formats! \n",
    "\n",
    "HOOMD-blue requires alphanumeric types along with type IDs, so we have to add\n",
    "those to our snapshot using a `lammpsio.LabelMap`. Here we're\n",
    "going to assign the `Snapshot` a type_label mapping particle typeID `1 -> A` and\n",
    "`2 -> B` and bond typeid `1 -> dimer`. `lammpsio` will use the `LabelMap` to set\n",
    "the alphanumeric types in the GSD file. \n",
    "\n",
    "Note: LAMMPS now also supports alphanumeric type labeling, though `lammpsio` does not currently support for this feature, it is planned as a future addition. "
   ]
  },
  {
   "cell_type": "code",
   "execution_count": 40,
   "id": "890f5b1f",
   "metadata": {},
   "outputs": [],
   "source": [
    "snap.type_label = lammpsio.LabelMap({1: \"A\", 2: \"B\"})\n",
    "snap.bonds.type_label = lammpsio.LabelMap({1: \"dimer\"})"
   ]
  },
  {
   "cell_type": "markdown",
   "id": "64fbc10a",
   "metadata": {},
   "source": [
    "Since HOOMD-blue requires the simulation box to be centered about the origin, we need to shift our box coordinates. Currently, our box extends from `[0, 0, 0]` to `[35, 35, 35]`, but HOOMD-blue expects it to be centered at zero, ranging from `[-17.5, -17.5, -17.5]` to `[17.5, 17.5, 17.5]`. We accomplish this by calculating the extent of the box (`high - low`) and then shifting both the high and low boundaries by subtracting half the extent. We then do the same thing to `snap.position`. "
   ]
  },
  {
   "cell_type": "code",
   "execution_count": 41,
   "id": "caf007f9",
   "metadata": {},
   "outputs": [],
   "source": [
    "extent = snap.box.high - snap.box.low\n",
    "\n",
    "snap.box.high -= extent / 2\n",
    "snap.box.low -= extent / 2\n",
    "\n",
    "snap.position -= extent / 2"
   ]
  },
  {
   "cell_type": "markdown",
   "id": "01b31b86",
   "metadata": {},
   "source": [
    "Using `Snapshot.to_hoomd_gsd()` returns a HOOMD-blue GSD frame object. We can write this out to file and have the same particle and bond data ready to be used in a different simulation engine! You can also use `Snapshot.from_hoomd_gsd` to convert a HOOMD-blue GSD frame into a `Snapshot`! "
   ]
  },
  {
   "cell_type": "code",
   "execution_count": 42,
   "id": "284768f5",
   "metadata": {},
   "outputs": [],
   "source": [
    "import gsd.hoomd\n",
    "snap_gsd = snap.to_hoomd_gsd()\n",
    "\n",
    "with gsd.hoomd.open(\"dimer_lattice.gsd\", \"w\") as f:\n",
    "    f.append(snap_gsd)\n",
    "    f.flush()\n",
    "    f.close()"
   ]
  }
 ],
 "metadata": {
  "kernelspec": {
   "display_name": "lammpsio-dev",
   "language": "python",
   "name": "python3"
  },
  "language_info": {
   "codemirror_mode": {
    "name": "ipython",
    "version": 3
   },
   "file_extension": ".py",
   "mimetype": "text/x-python",
   "name": "python",
   "nbconvert_exporter": "python",
   "pygments_lexer": "ipython3",
   "version": "3.12.3"
  }
 },
 "nbformat": 4,
 "nbformat_minor": 5
}
