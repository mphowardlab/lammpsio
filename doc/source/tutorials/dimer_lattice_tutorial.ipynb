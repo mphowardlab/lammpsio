{
 "cells": [
  {
   "cell_type": "markdown",
   "id": "56c2719c",
   "metadata": {},
   "source": [
    "# Packing a dimer on a cubic lattice with `lammpsio`\n",
    "In this tutorial, we’ll walk through filling a box with dimers using `lammpsio`. We'll create a simple cubic lattice where each unit cell contains a bonded dimer made up of two particle of type A and B. At the end, we will create a data file ready to be used by `LAMMPS`. \n",
    "\n",
    "First, we import `numpy` to make setting up the simple cubic lattice and `lammpsio` to handle creating the data file."
   ]
  },
  {
   "cell_type": "code",
   "execution_count": 29,
   "id": "2ab58341",
   "metadata": {},
   "outputs": [],
   "source": [
    "import lammpsio\n",
    "\n",
    "import numpy"
   ]
  },
  {
   "cell_type": "markdown",
   "id": "3649af64",
   "metadata": {},
   "source": [
    "## Creating the simple cubic lattice"
   ]
  },
  {
   "cell_type": "markdown",
   "id": "82d4bea0",
   "metadata": {},
   "source": [
    "We define the core parameters of our system, including particle diameters, offset between bonded particles, and the number of repetitions of the unit cell. We choose the particles to have a unit diameter $d$ and a bond spacing of 1.5 $d$. We chose a lattice spacing of `2 * diameter + bond_length` so that each dimer are at the equilibrium bond distance. We also choose to place 1000 dimers total (10 in each direction).  "
   ]
  },
  {
   "cell_type": "code",
   "execution_count": 30,
   "id": "cd4c3e84",
   "metadata": {},
   "outputs": [],
   "source": [
    "diameter = 1.0\n",
    "bond_length = 1.5\n",
    "lattice_spacing = 2 * diameter + bond_length\n",
    "num_repeat = [10, 10, 10]"
   ]
  },
  {
   "cell_type": "markdown",
   "id": "3b71bc67",
   "metadata": {},
   "source": [
    "### Define the unit cell"
   ]
  },
  {
   "cell_type": "markdown",
   "id": "a93991ec",
   "metadata": {},
   "source": [
    "We'll make our lattice with a simple cubic unit cell. Each unit cell contains two particles: type A at the origin, and type B shifted along the x-axis to give the proper spacing."
   ]
  },
  {
   "cell_type": "code",
   "execution_count": 31,
   "id": "3ddbcaf9",
   "metadata": {},
   "outputs": [],
   "source": [
    "unit_cell = numpy.array([[1, 0, 0], [0, 1, 0], [0, 0, 1]]) * lattice_spacing\n",
    "unit_cell_coords = numpy.array([\n",
    "    [0, 0, 0],\n",
    "    [bond_length, 0, 0]\n",
    "])\n",
    "unit_cell_typeids = [1, 2]\n",
    "unit_cell_mass = [1.0, 1.5]"
   ]
  },
  {
   "cell_type": "markdown",
   "id": "8ca906a5",
   "metadata": {},
   "source": [
    "### Define `lammpsio.Box`"
   ]
  },
  {
   "cell_type": "markdown",
   "id": "f71a29f8",
   "metadata": {},
   "source": [
    "\n",
    "\n",
    "`lammpsio.Box` defines the simulation box using LAMMPS's convention. In LAMMPS, the simulation box is specified by three parameters: `low`, `high`, and `tilt`. The `low` parameter defines the origin (lower corner) of the box, while `high` specifies how far the box extends along each axis. The `tilt` parameter contains tilt factors (xy, xz, yz) that skew the edges to create non-orthorhombic simulation boxes.\n",
    "\n",
    "These parameters can be transformed into a box matrix with the following form:\n",
    "\n",
    "$$\n",
    "\\begin{bmatrix}\n",
    "    a_x & b_x & c_x \\\\\n",
    "    0 & b_y & c_y \\\\\n",
    "    0 & 0 & c_z\n",
    "\\end{bmatrix},\n",
    "$$\n",
    "\n",
    "where each column of this matrix represents one of the three edge vectors (**A**, **B**, & **C**) that define the triclinic simulation box, and each of the matrix elements are derived from the `low`, `high`, and `tilt` values. The diagonal elements ($a_x$, $b_y$, $c_z$) represent the box lengths along each axis, while the off-diagonal elements come from the tilt factors. For more details on how to convert between the LAMMPS parameters and box matrix see the [LAMMPS documentation](https://docs.lammps.org/Howto_triclinic.html#transformation-from-general-to-restricted-triclinic-boxes).\n",
    "\n",
    "For our orthorhombic unit cell, all tilt factors are zero, so `tilt` has the default value of `None`, resulting in a simple rectangular box. We choose `low` to be at `[0, 0, 0]` and `high` is the diagonal values of the box. "
   ]
  },
  {
   "cell_type": "code",
   "execution_count": 32,
   "id": "b79ec025",
   "metadata": {},
   "outputs": [],
   "source": [
    "box_matrix = (unit_cell * num_repeat).T\n",
    "low = [0, 0, 0]\n",
    "high = [box_matrix[0, 0], box_matrix[1, 1], box_matrix[2, 2]]\n",
    "box = lammpsio.Box(low=low, high=high, tilt=None)"
   ]
  },
  {
   "cell_type": "markdown",
   "id": "16792f2c",
   "metadata": {},
   "source": [
    "### Generate particle type IDs and positions"
   ]
  },
  {
   "cell_type": "markdown",
   "id": "57a0d852",
   "metadata": {},
   "source": [
    "We calculate the total number of particles by multiplying the number of unit cells by the number of particles per cell."
   ]
  },
  {
   "cell_type": "code",
   "execution_count": 33,
   "id": "ef9c74b1",
   "metadata": {},
   "outputs": [],
   "source": [
    "num_cells = num_repeat[0] * num_repeat[1] * num_repeat[2]\n",
    "N = num_cells * len(unit_cell_coords)"
   ]
  },
  {
   "cell_type": "markdown",
   "id": "f1371cbc",
   "metadata": {},
   "source": [
    "## Create a `lammpsio.Snapshot`"
   ]
  },
  {
   "cell_type": "markdown",
   "id": "750e2e0d",
   "metadata": {},
   "source": [
    "The `Snapshot` holds the data about the particle's configuration and properties, the `Box`, and the timestep. \n"
   ]
  },
  {
   "cell_type": "code",
   "execution_count": 34,
   "id": "a9358a71",
   "metadata": {},
   "outputs": [],
   "source": [
    "snap = lammpsio.Snapshot(N=N, box=box)"
   ]
  },
  {
   "cell_type": "markdown",
   "id": "48ea8e9b",
   "metadata": {},
   "source": [
    "Particle attributes are assigned directly using the Snapshot's attributes. We generate positions for all particles by iterating through each unit cell position in our 3D lattice grid. For each unit cell, we calculate the absolute coordinates by scaling the unit cell position by the lattice spacing and adding the unit cell's internal particle coordinates. The particles are then positioned within the simulation box starting from `snap.box.low`.\n",
    "\n",
    "Note that lammpsio automatically allocates an array with the right data type and shape for attributes, so we assign positions directly to snap.position rather than using an intermediate array!"
   ]
  },
  {
   "cell_type": "code",
   "execution_count": 35,
   "id": "1dbd74b0",
   "metadata": {},
   "outputs": [],
   "source": [
    "for i, pos in enumerate(numpy.ndindex(*num_repeat)):\n",
    "    first = i * len(unit_cell_coords)\n",
    "    last = first + len(unit_cell_coords)\n",
    "    absolute_coords = numpy.array(pos) * lattice_spacing + unit_cell_coords\n",
    "    snap.position[first:last] = absolute_coords + snap.box.low"
   ]
  },
  {
   "cell_type": "markdown",
   "id": "5d91b59f",
   "metadata": {},
   "source": [
    "We then create an array of type IDs by replicating our unit cell pattern (typeID 1 and 2) across all cells. We do the same thing to give the particles their mass. \n"
   ]
  },
  {
   "cell_type": "code",
   "execution_count": 36,
   "id": "cecf14cb",
   "metadata": {},
   "outputs": [],
   "source": [
    "snap.typeid = numpy.tile(unit_cell_typeids, num_cells)\n",
    "snap.mass = numpy.tile(unit_cell_mass, num_cells)"
   ]
  },
  {
   "cell_type": "markdown",
   "id": "46ac8215",
   "metadata": {},
   "source": [
    "To specify bonds, we assign the `Snapshot` a `lammpsio.Bonds` object. `lammpsio.Bonds` holds information about the bond typeIDs and which particles are members of the bond.\n",
    "\n",
    "We know that each cell contains one dimer and thus one bond. Since all of our bonds in this system are the same, we assign them all typeID 1. "
   ]
  },
  {
   "cell_type": "code",
   "execution_count": 37,
   "id": "3ce97e21",
   "metadata": {},
   "outputs": [],
   "source": [
    "N_bonds = num_cells\n",
    "\n",
    "snap.bonds = lammpsio.Bonds(N=N_bonds, num_types=1)\n",
    "snap.bonds.typeid = numpy.ones(N_bonds)"
   ]
  },
  {
   "cell_type": "markdown",
   "id": "dbe9bda1",
   "metadata": {},
   "source": [
    "Each dimer consists of consecutive particle IDs (1-2, 3-4, etc.). We create bonds by connecting these consecutive pairs, resulting in 1000 bonds for our 1000 dimers."
   ]
  },
  {
   "cell_type": "code",
   "execution_count": 38,
   "id": "ae6ecebf",
   "metadata": {},
   "outputs": [],
   "source": [
    "snap.bonds.members = [[2 * i + 1, 2 * i + 2] for i in range(N_bonds)]"
   ]
  },
  {
   "cell_type": "markdown",
   "id": "1112f225",
   "metadata": {},
   "source": [
    "### Save to LAMMPS"
   ]
  },
  {
   "cell_type": "markdown",
   "id": "09b878bd",
   "metadata": {},
   "source": [
    "Finally, we save the configuration to a data file ready to be used in `LAMMPS`. The data file is written in the molecular style since we have bonds. "
   ]
  },
  {
   "cell_type": "code",
   "execution_count": 39,
   "id": "ada7ffb6",
   "metadata": {},
   "outputs": [
    {
     "data": {
      "text/plain": [
       "<lammpsio.data.DataFile at 0x10cdf38c0>"
      ]
     },
     "execution_count": 39,
     "metadata": {},
     "output_type": "execute_result"
    }
   ],
   "source": [
    "lammpsio.DataFile.create(filename=\"dimer_lattice.data\", snapshot=snap, atom_style=\"molecular\")"
   ]
  },
  {
   "cell_type": "markdown",
   "id": "567bb70a",
   "metadata": {},
   "source": [
    "### Save to HOOMD-blue's GSD format"
   ]
  },
  {
   "cell_type": "markdown",
   "id": "5fdc51d0",
   "metadata": {},
   "source": [
    "HOOMD-blue is molecular dynamics engine commonly used to study soft matter. There may come a time when you want to use HOOMD-blue or share your LAMMPS data file with someone who is more familar with it. Converting the data file to HOOMD-blue's GSD format manually can be tedious, but luckily `lammpsio` allows for quick and seamless conversion between the formats! \n",
    "\n",
    "Since HOOMD-blue requires alphanumeric types along with TypeIDs we have to add those to our snapshot. The `lammpsio.LabelMap` is effectively a dictionary associating a label (type) with a particle's or connection's typeid. Here we're going to assign the `Snapshot` a type_label mapping particle typeID `1 -> A` and `2 -> B` and bond typeid `1 -> dimer`. `lammpsio` will use the `LabelMap` to set the alphanumeric types in the GSD file. \n",
    "\n",
    "Note: LAMMPS now also supports alphanumeric type labeling, though `lammpsio` does not currently support for this feature, it is planned as a future addition. "
   ]
  },
  {
   "cell_type": "code",
   "execution_count": 40,
   "id": "890f5b1f",
   "metadata": {},
   "outputs": [],
   "source": [
    "snap.type_label = lammpsio.LabelMap({1: \"A\", 2: \"B\"})\n",
    "snap.bonds.type_label = lammpsio.LabelMap({1: \"dimer\"})"
   ]
  },
  {
   "cell_type": "markdown",
   "id": "64fbc10a",
   "metadata": {},
   "source": [
    "Since HOOMD-blue requires the simulation box to be centered about the origin, we need to shift our box coordinates. Currently, our box extends from `[0, 0, 0]` to `[35, 35, 35]`, but HOOMD-blue expects it to be centered at zero, ranging from `[-17.5, -17.5, -17.5]` to `[17.5, 17.5, 17.5]`. We accomplish this by calculating the extent of the box (`high - low`) and then shifting both the high and low boundaries by subtracting half the extent. We then do the same thing to `snap.position`. "
   ]
  },
  {
   "cell_type": "code",
   "execution_count": 41,
   "id": "caf007f9",
   "metadata": {},
   "outputs": [],
   "source": [
    "extent = snap.box.high - snap.box.low\n",
    "\n",
    "snap.box.high -= extent / 2\n",
    "snap.box.low -= extent / 2\n",
    "\n",
    "snap.position -= extent / 2"
   ]
  },
  {
   "cell_type": "markdown",
   "id": "01b31b86",
   "metadata": {},
   "source": [
    "Using `Snapshot.to_hoomd_gsd()` returns a HOOMD-blue GSD frame object. We can write this out to file and have the same particle and bond data ready to be used in a different simulation engine! You can also use `Snapshot.from_hoomd_gsd` to convert a HOOMD-blue GSD frame into a `Snapshot`! "
   ]
  },
  {
   "cell_type": "code",
   "execution_count": 42,
   "id": "284768f5",
   "metadata": {},
   "outputs": [],
   "source": [
    "import gsd.hoomd\n",
    "snap_gsd = snap.to_hoomd_gsd()\n",
    "\n",
    "with gsd.hoomd.open(\"dimer_lattice.gsd\", \"w\") as f:\n",
    "    f.append(snap_gsd)\n",
    "    f.flush()\n",
    "    f.close()"
   ]
  }
 ],
 "metadata": {
  "kernelspec": {
   "display_name": "lammpsio-dev",
   "language": "python",
   "name": "python3"
  },
  "language_info": {
   "codemirror_mode": {
    "name": "ipython",
    "version": 3
   },
   "file_extension": ".py",
   "mimetype": "text/x-python",
   "name": "python",
   "nbconvert_exporter": "python",
   "pygments_lexer": "ipython3",
   "version": "3.12.3"
  }
 },
 "nbformat": 4,
 "nbformat_minor": 5
}
