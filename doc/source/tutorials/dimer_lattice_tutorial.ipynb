{
 "cells": [
  {
   "cell_type": "markdown",
   "id": "56c2719c",
   "metadata": {},
   "source": [
    "# Packing a Dimer on a Cubic Lattice\n",
    "\n",
    "In this tutorial, we’ll walk through filling a box with dimers using `lammpsio`.\n",
    "We'll create a simple cubic lattice where each unit cell contains one dimer\n",
    "made up of two particle (one of type A and one of type B) that are bonded to\n",
    "each other. At the end, we will create a data file ready to be used by LAMMPS. \n",
    "\n",
    "First, we import `numpy` for making the simple cubic lattice and `lammpsio` to\n",
    "handle creating the data file."
   ]
  },
  {
   "cell_type": "code",
   "execution_count": 37,
   "id": "2ab58341",
   "metadata": {},
   "outputs": [],
   "source": [
    "import lammpsio\n",
    "import numpy"
   ]
  },
  {
   "cell_type": "markdown",
   "id": "82d4bea0",
   "metadata": {},
   "source": [
    "## Creating the lattice\n",
    "\n",
    "We define the core parameters of our system, including particle diameters,\n",
    "offset between bonded particles, and the number of repetitions of the unit cell.\n",
    "We choose the particles to have a unit diameter $d$ and a bond length of $\\ell =\n",
    "1.5 d$. We chose a lattice spacing of $2 d + \\ell$  so that each dimer is\n",
    "separated by one diameter. We also choose to place 1000 dimers total (10 in each\n",
    "direction)."
   ]
  },
  {
   "cell_type": "code",
   "execution_count": 38,
   "id": "cd4c3e84",
   "metadata": {},
   "outputs": [],
   "source": [
    "diameter = 1.0\n",
    "bond_length = 1.5\n",
    "lattice_spacing = 2 * diameter + bond_length\n",
    "num_repeat = [10, 10, 10]"
   ]
  },
  {
   "cell_type": "markdown",
   "id": "a93991ec",
   "metadata": {},
   "source": [
    "### Define the unit cell\n",
    "\n",
    "The unit cell is a volume containing particles that can be copied along the\n",
    "vectors that define it in order to fill space. Our unit cell is a cube, so its\n",
    "vectors are the 3 Cartesian axes, scaled by the lattice spacing. Each unit cell\n",
    "contains two particles: type A at the origin and type B shifted along the *x*\n",
    "axis to give the proper spacing. We also specify the type IDs (A is 1, B is 2)\n",
    "and masses of the particles in the unit cell."
   ]
  },
  {
   "cell_type": "code",
   "execution_count": 39,
   "id": "3ddbcaf9",
   "metadata": {},
   "outputs": [],
   "source": [
    "unit_cell_vectors = numpy.array([\n",
    "    [1, 0, 0],\n",
    "    [0, 1, 0],\n",
    "    [0, 0, 1]\n",
    "]) * lattice_spacing\n",
    "unit_cell_coords = numpy.array([\n",
    "    [0, 0, 0],\n",
    "    [bond_length, 0, 0]\n",
    "])\n",
    "unit_cell_typeids = [1, 2]\n",
    "unit_cell_mass = [1.0, 1.5]"
   ]
  },
  {
   "cell_type": "markdown",
   "id": "8ca906a5",
   "metadata": {},
   "source": [
    "### Define the box\n",
    "\n",
    "The simulation box is the volume obtained by repeating the unit cell the desired\n",
    "number of times. First, we repeat each vector by the number of repeats we\n",
    "specified. Then, we transpose these vectors to form the matrix\n",
    "[**a** **b** **c**] that defines a LAMMPS box. We use the `from_matrix` method to \n",
    "create our box and choose to put the lower corner of the box at the origin `[0, 0, 0]`."
   ]
  },
  {
   "cell_type": "code",
   "execution_count": null,
   "id": "b79ec025",
   "metadata": {},
   "outputs": [],
   "source": [
    "box_matrix = (unit_cell_vectors * num_repeat).T\n",
    "box = lammpsio.Box.from_matrix(low=[0, 0, 0], matrix=box_matrix)"
   ]
  },
  {
   "cell_type": "markdown",
   "id": "f1371cbc",
   "metadata": {},
   "source": [
    "## Creating the snapshot\n",
    "\n",
    "The `Snapshot` holds the data about the particle's configuration and properties,\n",
    "the `Box`, and the timestep. First, we calculate the total number of particles\n",
    "by multiplying the number of unit cells by the number of particles per cell."
   ]
  },
  {
   "cell_type": "code",
   "execution_count": 41,
   "id": "a9358a71",
   "metadata": {},
   "outputs": [],
   "source": [
    "num_cells = numpy.prod(num_repeat)\n",
    "num_per_unit_cell = unit_cell_coords.shape[0]\n",
    "snap = lammpsio.Snapshot(N=num_cells * num_per_unit_cell, box=box)"
   ]
  },
  {
   "cell_type": "markdown",
   "id": "48ea8e9b",
   "metadata": {},
   "source": [
    "We then generate positions for all particles by iterating through each unit\n",
    "cell in our lattice. The origin of the lattice (relative to the origin of the\n",
    "box) is calculated and used to shift the unit cell coordinates. Finally, the\n",
    "origin of the box is added to give the final particle positions.\n",
    "\n",
    "Note that `lammpsio` automatically allocates an array with the right data type\n",
    "and shape for particle data, so particle data can be assigned directly to the\n",
    "snapshot rather than using an intermediate array!"
   ]
  },
  {
   "cell_type": "code",
   "execution_count": 42,
   "id": "1dbd74b0",
   "metadata": {},
   "outputs": [],
   "source": [
    "for i, unit_cell_idx in enumerate(numpy.ndindex(*num_repeat)):\n",
    "    first = i * num_per_unit_cell\n",
    "    last = first + num_per_unit_cell\n",
    "    snap.position[first:last] = (\n",
    "        numpy.array(unit_cell_idx) * lattice_spacing + unit_cell_coords\n",
    "    )\n",
    "snap.position += snap.box.low"
   ]
  },
  {
   "cell_type": "markdown",
   "id": "5d91b59f",
   "metadata": {},
   "source": [
    "We then create an array of type IDs by replicating our unit cell type IDs. We do\n",
    "the same thing to give the particles their masses. \n"
   ]
  },
  {
   "cell_type": "code",
   "execution_count": 43,
   "id": "cecf14cb",
   "metadata": {},
   "outputs": [],
   "source": [
    "snap.typeid = numpy.tile(unit_cell_typeids, num_cells)\n",
    "snap.mass = numpy.tile(unit_cell_mass, num_cells)"
   ]
  },
  {
   "cell_type": "markdown",
   "id": "46ac8215",
   "metadata": {},
   "source": [
    "To specify the bond for each dimer, we also need to add a `Bonds` object to the\n",
    "snapshot. We know that each cell contains one dimer and thus one bond. Since all\n",
    "of our bonds in this system are the same, we assign them all type ID 1."
   ]
  },
  {
   "cell_type": "code",
   "execution_count": 44,
   "id": "3ce97e21",
   "metadata": {},
   "outputs": [],
   "source": [
    "snap.bonds = lammpsio.Bonds(N=num_cells, num_types=1)\n",
    "snap.bonds.typeid = numpy.ones(snap.bonds.N)"
   ]
  },
  {
   "cell_type": "markdown",
   "id": "dbe9bda1",
   "metadata": {},
   "source": [
    "Each dimer consists of consecutive particle IDs (1-2, 3-4, etc.). We create\n",
    "bonds by connecting these consecutive pairs."
   ]
  },
  {
   "cell_type": "code",
   "execution_count": 45,
   "id": "ae6ecebf",
   "metadata": {},
   "outputs": [],
   "source": [
    "snap.bonds.members = [[2 * i + 1, 2 * i + 2] for i in range(snap.bonds.N)]"
   ]
  },
  {
   "cell_type": "markdown",
   "id": "1112f225",
   "metadata": {},
   "source": [
    "## Save to LAMMPS data file"
   ]
  },
  {
   "cell_type": "markdown",
   "id": "09b878bd",
   "metadata": {},
   "source": [
    "Finally, we save the configuration to a data file ready to be used in LAMMPS.\n",
    "The data file is written in the molecular style since we have bonds. "
   ]
  },
  {
   "cell_type": "code",
   "execution_count": null,
   "id": "ada7ffb6",
   "metadata": {},
   "outputs": [
    {
     "data": {
      "text/plain": [
       "<lammpsio.data.DataFile at 0x109c575f0>"
      ]
     },
     "execution_count": 46,
     "metadata": {},
     "output_type": "execute_result"
    }
   ],
   "source": [
    "lammpsio.DataFile.create(\n",
    "    filename=\"dimer_lattice.data\", snapshot=snap, atom_style=\"molecular\"\n",
    ")"
   ]
  },
  {
   "cell_type": "markdown",
   "id": "567bb70a",
   "metadata": {},
   "source": [
    "## Save to HOOMD-blue GSD file"
   ]
  },
  {
   "cell_type": "markdown",
   "id": "5fdc51d0",
   "metadata": {},
   "source": [
    "HOOMD-blue is another molecular simulation tool whose user community overlaps\n",
    "with LAMMPS. There may come a time when you want to use HOOMD-blue or share your\n",
    "LAMMPS data file with someone who is more familar with it. Manually converting a\n",
    "LAMMPS data file to HOOMD-blue’s GSD format can be tedious — for example,\n",
    "HOOMD-blue requires the box to be centered at `[0, 0, 0]`. Luckily, `lammpsio`\n",
    "automatically handles this coordinate transformation and other format\n",
    "differences for you!\n",
    "\n",
    "HOOMD-blue requires alphanumeric type names along with type IDs, so we have to\n",
    "add those to our snapshot using a `LabelMap`. By default, if you do not specify\n",
    "a `LabelMap`, `lammpsio` will convert type IDs to string types in the GSD file\n",
    "(e.g., typeID `1` becomes `\"1\"`). Here, we're going to explicitly map particle\n",
    "typeID `1 -> A` & `2 -> B` and bond typeID `1 -> dimer`. `lammpsio` will use the\n",
    "`LabelMap` to set the alphanumeric types in the GSD file.\n",
    "\n",
    "Note: LAMMPS now also supports alphanumeric type labeling, but `lammpsio` \n",
    "does not currently support for this feature. It is planned as a future addition."
   ]
  },
  {
   "cell_type": "code",
   "execution_count": 47,
   "id": "890f5b1f",
   "metadata": {},
   "outputs": [],
   "source": [
    "snap.type_label = lammpsio.LabelMap({1: \"A\", 2: \"B\"})\n",
    "snap.bonds.type_label = lammpsio.LabelMap({1: \"dimer\"})"
   ]
  },
  {
   "cell_type": "markdown",
   "id": "01b31b86",
   "metadata": {},
   "source": [
    " We can write this out to file and have the same particle and bond data ready to \n",
    "be used in a different simulation engine! You can similarly use\n",
    "`Snapshot.from_hoomd_gsd`  to convert a HOOMD-blue GSD frame into a `Snapshot`! "
   ]
  },
  {
   "cell_type": "code",
   "execution_count": null,
   "id": "284768f5",
   "metadata": {},
   "outputs": [],
   "source": [
    "import gsd.hoomd\n",
    "\n",
    "with gsd.hoomd.open(\"dimer_lattice.gsd\", \"w\") as f:\n",
    "    f.append(snap.to_hoomd_gsd())"
   ]
  }
 ],
 "metadata": {
  "kernelspec": {
   "display_name": "freud",
   "language": "python",
   "name": "python3"
  },
  "language_info": {
   "codemirror_mode": {
    "name": "ipython",
    "version": 3
   },
   "file_extension": ".py",
   "mimetype": "text/x-python",
   "name": "python",
   "nbconvert_exporter": "python",
   "pygments_lexer": "ipython3",
   "version": "3.13.5"
  }
 },
 "nbformat": 4,
 "nbformat_minor": 5
}
